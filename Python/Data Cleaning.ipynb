{
 "cells": [
  {
   "cell_type": "code",
   "execution_count": 2,
   "id": "dc9ddb40-4186-4973-8ed6-c4242712e848",
   "metadata": {},
   "outputs": [
    {
     "name": "stdout",
     "output_type": "stream",
     "text": [
      "      video_id                                              title  \\\n",
      "0  Iot0eF6EoNA  Sadak 2 | Official Trailer | Sanjay | Pooja | ...   \n",
      "1  x-KbnJ9fvJc  Kya Baat Aa : Karan Aujla (Official Video) Tan...   \n",
      "2  KX06ksuS6Xo  Diljit Dosanjh: CLASH (Official) Music Video |...   \n",
      "3  UsMRgnTcchY  Dil Ko Maine Di Kasam Video | Amaal M Ft.Ariji...   \n",
      "4  WNSEXJJhKTU  Baarish (Official Video) Payal Dev,Stebin Ben ...   \n",
      "\n",
      "            publishedAt                 channelId    channelTitle  categoryId  \\\n",
      "0  2020-08-12T04:31:41Z  UCGqvJPRcv7aVFun-eTsatcA    FoxStarHindi          24   \n",
      "1  2020-08-11T09:00:11Z  UCm9SZAl03Rev9sFwloCdz1g  Rehaan Records          10   \n",
      "2  2020-08-11T07:30:02Z  UCZRdNleCgW-BGUJf-bbjzQg  Diljit Dosanjh          10   \n",
      "3  2020-08-10T05:30:49Z  UCq-Fj5jknLsUf-MWSy4_brA        T-Series          10   \n",
      "4  2020-08-11T05:30:13Z  UCye6Oz0mg46S362LwARGVcA   VYRLOriginals          10   \n",
      "\n",
      "          trending_date                                               tags  \\\n",
      "0  2020-08-12T00:00:00Z  sadak|sadak 2|mahesh bhatt|vishesh films|pooja...   \n",
      "1  2020-08-12T00:00:00Z                                             [None]   \n",
      "2  2020-08-12T00:00:00Z  clash diljit dosanjh|diljit dosanjh|diljit dos...   \n",
      "3  2020-08-12T00:00:00Z  hindi songs|2020 hindi songs|2020 new songs|t-...   \n",
      "4  2020-08-12T00:00:00Z  VYRL Original|Mohsin Khan|Shivangi Joshi|Payal...   \n",
      "\n",
      "   view_count   likes  dislikes  comment_count  \\\n",
      "0     9885899  224925   3979409         350210   \n",
      "1    11308046  655450     33242         405146   \n",
      "2     9140911  296533      6179          30058   \n",
      "3    23564512  743931     84162         136942   \n",
      "4     6783649  268817      8798          22984   \n",
      "\n",
      "                                   thumbnail_link  comments_disabled  \\\n",
      "0  https://i.ytimg.com/vi/Iot0eF6EoNA/default.jpg              False   \n",
      "1  https://i.ytimg.com/vi/x-KbnJ9fvJc/default.jpg              False   \n",
      "2  https://i.ytimg.com/vi/KX06ksuS6Xo/default.jpg              False   \n",
      "3  https://i.ytimg.com/vi/UsMRgnTcchY/default.jpg              False   \n",
      "4  https://i.ytimg.com/vi/WNSEXJJhKTU/default.jpg              False   \n",
      "\n",
      "   ratings_disabled                                        description  \n",
      "0             False  Three Streams. Three Stories. One Journey. Sta...  \n",
      "1             False  Singer/Lyrics: Karan Aujla Feat Tania Music/ D...  \n",
      "2             False  CLASH official music video performed by DILJIT...  \n",
      "3             False  Gulshan Kumar and T-Series presents Bhushan Ku...  \n",
      "4             False  VYRL Originals brings to you ‘Baarish’ - the b...  \n",
      "\n",
      "Missing values per column:\n",
      " video_id                 0\n",
      "title                    0\n",
      "publishedAt              0\n",
      "channelId                0\n",
      "channelTitle             1\n",
      "categoryId               0\n",
      "trending_date            0\n",
      "tags                     0\n",
      "view_count               0\n",
      "likes                    0\n",
      "dislikes                 0\n",
      "comment_count            0\n",
      "thumbnail_link           0\n",
      "comments_disabled        0\n",
      "ratings_disabled         0\n",
      "description          19455\n",
      "dtype: int64\n"
     ]
    }
   ],
   "source": [
    "import pandas as pd\n",
    "\n",
    "# Load the Indian dataset\n",
    "df_in = pd.read_csv('IN_youtube_trending_data.csv')\n",
    "\n",
    "# View the first 5 rows\n",
    "print(df_in.head())\n",
    "\n",
    "# Check for missing values\n",
    "print(\"\\nMissing values per column:\\n\", df_in.isnull().sum())"
   ]
  },
  {
   "cell_type": "code",
   "execution_count": null,
   "id": "305b5ef0-22da-49df-bb0a-a8e8c6872c75",
   "metadata": {},
   "outputs": [],
   "source": [
    "import pandas as pd\n",
    "import os\n",
    "\n",
    "# List of countries and corresponding file names\n",
    "countries = {\n",
    "    'IN': 'IN_youtube_trending_data.csv',\n",
    "    'US': 'US_youtube_trending_data.csv',\n",
    "    'GB': 'GB_youtube_trending_data.csv',\n",
    "    'DE': 'DE_youtube_trending_data.csv',\n",
    "    'CA': 'CA_youtube_trending_data.csv',\n",
    "    'FR': 'FR_youtube_trending_data.csv',\n",
    "    'RU': 'RU_youtube_trending_data.csv',\n",
    "    'BR': 'BR_youtube_trending_data.csv',\n",
    "    'MX': 'MX_youtube_trending_data.csv',\n",
    "    'KR': 'KR_youtube_trending_data.csv',\n",
    "    'JP': 'JP_youtube_trending_data.csv'\n",
    "}\n",
    "\n",
    "# Dictionary to store DataFrames\n",
    "dfs = {}\n",
    "\n",
    "# Load and inspect\n",
    "for code, filename in countries.items():\n",
    "    df = pd.read_csv(filename)\n",
    "    df['region'] = code  # Add region column\n",
    "    print(f\"\\n{code} Dataset – Shape: {df.shape}\")\n",
    "    print(df.isnull().sum())\n",
    "    dfs[code] = df  # Store in dictionary"
   ]
  },
  {
   "cell_type": "code",
   "execution_count": 4,
   "id": "281d2969-23ed-42fc-b177-ae038642d976",
   "metadata": {},
   "outputs": [
    {
     "name": "stdout",
     "output_type": "stream",
     "text": [
      "Date columns standardized for all regions.\n"
     ]
    }
   ],
   "source": [
    "# Apply standardization to all regional DataFrames\n",
    "for code, df in dfs.items():\n",
    "    # Convert publishedAt to datetime\n",
    "    df['publishedAt'] = pd.to_datetime(df['publishedAt'], errors='coerce')\n",
    "    \n",
    "    # Convert trending_date to datetime (usually in YY.DD.MM format, so reorder)\n",
    "    df['trending_date'] = pd.to_datetime(df['trending_date'], format='%y.%d.%m', errors='coerce')\n",
    "    \n",
    "    # Store back\n",
    "    dfs[code] = df\n",
    "\n",
    "print(\"Date columns standardized for all regions.\")"
   ]
  },
  {
   "cell_type": "code",
   "execution_count": null,
   "id": "bf240851-cddb-4854-83dc-28862e400428",
   "metadata": {},
   "outputs": [],
   "source": [
    "for code, df in dfs.items():\n",
    "    before = df.shape[0]\n",
    "    df.drop_duplicates(inplace=True)\n",
    "    after = df.shape[0]\n",
    "    print(f\"{code}: Dropped {before - after} duplicate rows\")\n",
    "    dfs[code] = df"
   ]
  },
  {
   "cell_type": "code",
   "execution_count": null,
   "id": "3de949f9-388c-48b0-95d8-d728dabba859",
   "metadata": {},
   "outputs": [],
   "source": [
    "# Corrected list of essential columns\n",
    "essential_cols = ['title', 'channelTitle', 'view_count', 'likes', 'dislikes', 'comment_count', 'categoryId']\n",
    "\n",
    "# Re-check for missing values\n",
    "for code, df in dfs.items():\n",
    "    missing = df[essential_cols].isnull().sum()\n",
    "    print(f\"\\n{code} – Missing values in important columns:\\n{missing}\")"
   ]
  },
  {
   "cell_type": "code",
   "execution_count": null,
   "id": "2d77fe61-4730-4205-9da1-1bfd0b67828e",
   "metadata": {},
   "outputs": [],
   "source": [
    "# Combine all regional DataFrames into one\n",
    "df_master = pd.concat(dfs.values(), ignore_index=True)\n",
    "\n",
    "# Quick summary\n",
    "print(\"Combined DataFrame shape:\", df_master.shape)\n",
    "print(\"Regions included:\", df_master['region'].unique())"
   ]
  },
  {
   "cell_type": "code",
   "execution_count": null,
   "id": "f3684d13-7bb3-44ed-aea3-7f54e9302026",
   "metadata": {},
   "outputs": [],
   "source": [
    "# Export combined dataset to CSV\n",
    "df_master.to_csv(\"youtube_trending_master.csv\", index=False)\n",
    "print(\"Combined dataset saved as 'youtube_trending_master.csv'\")"
   ]
  },
  {
   "cell_type": "code",
   "execution_count": null,
   "id": "66f808bc-a8a7-441a-a249-2bb18f49800d",
   "metadata": {},
   "outputs": [],
   "source": []
  }
 ],
 "metadata": {
  "kernelspec": {
   "display_name": "Python 3 (ipykernel)",
   "language": "python",
   "name": "python3"
  },
  "language_info": {
   "codemirror_mode": {
    "name": "ipython",
    "version": 3
   },
   "file_extension": ".py",
   "mimetype": "text/x-python",
   "name": "python",
   "nbconvert_exporter": "python",
   "pygments_lexer": "ipython3",
   "version": "3.13.2"
  }
 },
 "nbformat": 4,
 "nbformat_minor": 5
}
